{
 "cells": [
  {
   "cell_type": "markdown",
   "metadata": {
    "colab_type": "text",
    "id": "4nIBcFFBZ2pK"
   },
   "source": [
    "# Signal Classification Models"
   ]
  },
  {
   "cell_type": "markdown",
   "metadata": {
    "colab_type": "text",
    "id": "46R047xRZ2pN"
   },
   "source": [
    "Author: Ziad - Doaa - Osama (521237)\n",
    "\n",
    "Review of different models and techniques used for signal classification. The models are implemented in Python and some in MATLAB. \n",
    "The methods and models that I have built for the comparison are listed below.\n",
    "The complete code for the implementation of all the model can be found on their respective files, which are indicated on the description of each section.\n",
    "<br/>\n",
    "### Models:\n",
    " * **Feature extraction + Classifier**\n",
    "\n",
    " * **Automated feature extraction + Classifier**\n",
    "\n",
    " * **CNN_1D** (1-dimensional convolutional network)\n",
    "\n",
    " * **LSTM** (Long short-term memory neural network)\n",
    "\n",
    " * **CNN_1D + LSTM**\n",
    "\n",
    " * **CWT + CNN_2D** (Continuous wavelet transform + 2D convolutional network)\n",
    " \n",
    " * **Wavelet Time Scattering + Classifier**\n",
    "\n",
    "<br/>\n",
    "\n",
    "I will be using the data set \"Human Activity Recognition Using Smartphones\" from the UCI database. \n",
    "The experiment consists of a set of people performing six activities (WALKING, WALKING UPSTAIRS, WALKING DOWNSTAIRS, SITTING, STANDING, LAYING) wearing a smartphone (Samsung Galaxy S II) on the waist. \n",
    "The embedded accelerometer and gyroscope of the phone is then used to record the 3-axial linear acceleration and 3-axial angular velocity at a constant rate of 50Hz. The objective is to predict which activity is performing the person.\n",
    "\n",
    "Each sample individual sample we have 9 signals with a total length of 128 readings:\n",
    "\n",
    "body_acc_x_train, body_acc_y_train, body_acc_z_train, body_gyro_x_train, body_gyro_y_train, body_gyro_z_train, total_acc_x_train, total_acc_y_train, total_acc_z_train\n",
    "\n",
    "Activities description:\n",
    "1. walking\n",
    "2. walking upstairs\n",
    "3. walking downstairs\n",
    "4. sitting\n",
    "5. standing\n",
    "6. laying\n",
    " \n",
    "\n",
    " \n",
    "The original data set: <br>\n",
    "https://archive.ics.uci.edu/ml/datasets/human+activity+recognition+using+smartphones\n",
    "\n",
    "\n",
    "\n",
    "<br>\n",
    "\n",
    "**References & resources**\n",
    "\n",
    "Here some materials and resources from which I have learned some of the methods shown on this notebook and that I would recommend to people starting learning about signal processing and classification.\n",
    "\n",
    "\n",
    "* \"*Signal processing problems, solved in MATLAB and in Python\", by Mike X Cohen (Udemy Course).* <a href=\"https://www.udemy.com/course/signal-processing/\"> Link</a>. \n",
    "\n",
    "* *Signal Processing Toolbox documentation (tutorials and examples).* <a href=\"https://www.mathworks.com/help/signal/signal-generation-and-preprocessing.html?category=signal-generation-and-preprocessing&s_tid=CRUX_gn_documentation_signal-generation-and-preprocessing\"> Link</a>.\n",
    "\n",
    "* \"*Deep Learning for Time Series Forecasting\", by Jason Brownlee* (Book).\n",
    "\n",
    "* *Ahmet Taspinar blog (Deep learning blog).* <a href=\"http://ataspinar.com/\"> Link</a>.\n",
    "\n",
    "* *UTU Deep Learning Course (TKO_ 8612).* <a href=\"https://opas.peppi.utu.fi/en/course/TKO_8612/8225\"> Link</a>.\n",
    "\n",
    "<br>\n"
   ]
  },
  {
   "cell_type": "markdown",
   "metadata": {
    "colab_type": "text",
    "id": "QYhvj7YaQsZR"
   },
   "source": [
    "**Free cloud GPU servers**\n",
    "\n",
    "- Google colab (TPU / GPU  Nvidia T4s, K80s, P4s and P100s)\n",
    "- Kaggle kernel (GPU Nvidia Telsa P100)"
   ]
  },
  {
   "cell_type": "code",
   "execution_count": 4,
   "metadata": {
    "colab": {
     "base_uri": "https://localhost:8080/",
     "height": 891
    },
    "colab_type": "code",
    "id": "euc-V3LQa9v0",
    "outputId": "19455870-b84d-4c3f-fe4f-378693edd101"
   },
   "outputs": [],
   "source": [
    "# # Just uploading this notebook and running this cell it should be ready to go.\n",
    "\n",
    "# !apt install git\n",
    "# !git clone https://github.com/JoaquinRives/Deep-Learning-Project\n",
    "# !pip install -r Deep-Learning-Project/requirements.txt\n",
    "\n",
    "# import os\n",
    "# os.chdir(\"Signal_Classification_Models\")"
   ]
  },
  {
   "cell_type": "markdown",
   "metadata": {
    "colab_type": "text",
    "id": "7k9ER4jvZ2pO"
   },
   "source": [
    "<br>\n",
    "\n",
    "## Signals\n",
    "\n"
   ]
  },
  {
   "cell_type": "code",
   "execution_count": 2,
   "metadata": {
    "colab": {},
    "colab_type": "code",
    "id": "lFOubPD_Z2pO"
   },
   "outputs": [],
   "source": [
    "from data_handling import load_dataset\n",
    "import matplotlib.pyplot as plt\n",
    "import seaborn as sns\n",
    "import warnings\n",
    "import matplotlib.pyplot as plt\n",
    "warnings.filterwarnings('ignore')\n",
    "plt.rcParams['figure.figsize'] = [10, 5]"
   ]
  },
  {
   "cell_type": "code",
   "execution_count": 0,
   "metadata": {
    "colab": {
     "base_uri": "https://localhost:8080/",
     "height": 120
    },
    "colab_type": "code",
    "id": "WBz3y6M2Z2pS",
    "outputId": "1b46950d-9991-495e-f56b-4c7dadccde6c"
   },
   "outputs": [
    {
     "name": "stdout",
     "output_type": "stream",
     "text": [
      "The train dataset contains 7352 signals, each one of length 128 and 9 components \n",
      "The test dataset contains 2947 signals, each one of length 128 and 9 components \n",
      "The train dataset contains 7352 labels, with the following distribution:\n",
      " Counter({6: 1407, 5: 1374, 4: 1286, 1: 1226, 2: 1073, 3: 986})\n",
      "The test dataset contains 2947 labels, with the following distribution:\n",
      " Counter({6: 537, 5: 532, 1: 496, 4: 491, 2: 471, 3: 420})\n"
     ]
    }
   ],
   "source": [
    "# Load data\n",
    "X_train, X_test, y_train, y_test = load_dataset()"
   ]
  },
  {
   "cell_type": "markdown",
   "metadata": {
    "colab_type": "text",
    "id": "I10xIJkfZ2pV"
   },
   "source": [
    "#### Plot the distribution of each signal"
   ]
  },
  {
   "cell_type": "code",
   "execution_count": 0,
   "metadata": {
    "colab": {
     "base_uri": "https://localhost:8080/",
     "height": 320
    },
    "colab_type": "code",
    "id": "lSxdn4PrZ2pW",
    "outputId": "3aa3741f-9efd-40f1-eb35-d4fc6d28a5ed"
   },
   "outputs": [
    {
     "data": {
      "image/png": "[encoded data removed]",
      "text/plain": [
       "<Figure size 720x360 with 9 Axes>"
      ]
     },
     "metadata": {
      "tags": []
     },
     "output_type": "display_data"
    }
   ],
   "source": [
    "def plot_variable_distributions(trainX):\n",
    "    \"\"\" Plots a histogram of each variable in the data set \"\"\"\n",
    "    # remove overlap\n",
    "    cut = int(trainX.shape[1] / 2)\n",
    "    longX = trainX[:, -cut:, :]\n",
    "    # flatten windows\n",
    "    longX = longX.reshape((longX.shape[0] * longX.shape[1], longX.shape[2]))\n",
    "    plt.figure()\n",
    "    xaxis = None\n",
    "    for i in range(longX.shape[1]):\n",
    "        ax = plt.subplot(longX.shape[1], 1, i+1, sharex=xaxis)\n",
    "        ax.set_xlim(-1, 1)\n",
    "        if i == 0:\n",
    "            xaxis = ax\n",
    "        plt.hist(longX[:, i], bins=100)\n",
    "    plt.show()\n",
    "\n",
    "    \n",
    "# Plot a histogram of each signal\n",
    "plot_variable_distributions(X_train)"
   ]
  },
  {
   "cell_type": "markdown",
   "metadata": {
    "colab_type": "text",
    "id": "P3wEXbydZ2pZ"
   },
   "source": [
    "#### Plot the distribution of the labels"
   ]
  },
  {
   "cell_type": "code",
   "execution_count": 0,
   "metadata": {
    "colab": {
     "base_uri": "https://localhost:8080/",
     "height": 336
    },
    "colab_type": "code",
    "id": "4UR0m43VZ2pa",
    "outputId": "69d12f0e-42d5-4cee-955e-2e96a5c7a213"
   },
   "outputs": [
    {
     "data": {
      "image/png": "[encoded data removed]",
      "text/plain": [
       "<Figure size 720x360 with 1 Axes>"
      ]
     },
     "metadata": {
      "tags": []
     },
     "output_type": "display_data"
    }
   ],
   "source": [
    "# Count plot of the target labels\n",
    "sns.countplot(y_train, )\n",
    "plt.title(\"Label distribution\")\n",
    "plt.show()"
   ]
  },
  {
   "cell_type": "markdown",
   "metadata": {
    "colab_type": "text",
    "id": "oFtRmuSeZ2pc"
   },
   "source": [
    "\n",
    "<br/>\n",
    "\n",
    "## Feature extraction + Classifier\n",
    "<br/>\n",
    "\n",
    "Code implementation:\n",
    "> **feature_extraction.py**\n",
    "\n",
    "\n",
    "One of the most commonly used methods for signal classification consist on, instead of passing directly the signal to the model, extract features from the signal and pass those signals to a classifier model. The signals that I have extracted are:\n",
    "\n",
    "* **FFT :**  The coordinates in axis x and y of the n first significant peaks of the signal in the frequency domain after applying the Fast Fourier Transform.\n",
    "* **PSD :**  First n significant peaks from the Power Spectral Density analysis of the signal.\n",
    "* **Autocorrelation :**  First n significant peaks of the auto-correlation coefficients.\n",
    "* **Entropy (Shannon)**\n",
    "* **Zero crossing rate**\n",
    "* **Mean crossing rate**\n",
    "* **Statistic features :**  (n5, n25, n75, n95, median, mean, std, var, rms)\n",
    "\n",
    "Many more features can be extracted, the ones shown here are just a representation of the most commonly used. Domain-knowledge of the signals we want to classify is important in order to know which features we should extract for a better classification.\n",
    "All the features are passed as a sigle vector to the classifier. The results are shown below."
   ]
  },
  {
   "cell_type": "code",
   "execution_count": 3,
   "metadata": {
    "colab": {},
    "colab_type": "code",
    "id": "4-YFEVRZZ2pd",
    "outputId": "d7f57c3f-7c12-46c4-9abc-56508ee61948"
   },
   "outputs": [
    {
     "name": "stdout",
     "output_type": "stream",
     "text": [
      "----------------------------------------\n",
      "Average score: 91.483% (+/-0.000)\n",
      "Pipeline(memory=None,\n",
      "         steps=[('minmaxscaler', MinMaxScaler(copy=True, feature_range=(0, 1))),\n",
      "                ('logisticregression',\n",
      "                 LogisticRegression(C=1.0, class_weight=None, dual=False,\n",
      "                                    fit_intercept=True, intercept_scaling=1,\n",
      "                                    l1_ratio=None, max_iter=300,\n",
      "                                    multi_class='auto', n_jobs=None,\n",
      "                                    penalty='l2', random_state=None,\n",
      "                                    solver='lbfgs', tol=0.0001, verbose=0,\n",
      "                                    warm_start=False))],\n",
      "         verbose=False) \n",
      "\n",
      "----------------------------------------\n",
      "Average score: 93.858% (+/-0.000)\n",
      "Pipeline(memory=None,\n",
      "         steps=[('standardscaler',\n",
      "                 StandardScaler(copy=True, with_mean=True, with_std=True)),\n",
      "                ('logisticregression',\n",
      "                 LogisticRegression(C=30, class_weight=None, dual=False,\n",
      "                                    fit_intercept=True, intercept_scaling=1,\n",
      "                                    l1_ratio=None, max_iter=300,\n",
      "                                    multi_class='auto', n_jobs=None,\n",
      "                                    penalty='l2', random_state=None,\n",
      "                                    solver='lbfgs', tol=0.0001, verbose=0,\n",
      "                                    warm_start=False))],\n",
      "         verbose=False) \n",
      "\n",
      "----------------------------------------\n",
      "Average score: 91.110% (+/-0.000)\n",
      "Pipeline(memory=None,\n",
      "         steps=[('minmaxscaler', MinMaxScaler(copy=True, feature_range=(0, 1))),\n",
      "                ('svc',\n",
      "                 SVC(C=1.0, break_ties=False, cache_size=200, class_weight=None,\n",
      "                     coef0=0.0, decision_function_shape='ovr', degree=3,\n",
      "                     gamma='scale', kernel='rbf', max_iter=-1,\n",
      "                     probability=False, random_state=None, shrinking=True,\n",
      "                     tol=0.001, verbose=False))],\n",
      "         verbose=False) \n",
      "\n",
      "----------------------------------------\n",
      "Average score: 87.173% (+/-0.000)\n",
      "Pipeline(memory=None,\n",
      "         steps=[('minmaxscaler', MinMaxScaler(copy=True, feature_range=(0, 1))),\n",
      "                ('kneighborsclassifier',\n",
      "                 KNeighborsClassifier(algorithm='auto', leaf_size=30,\n",
      "                                      metric='minkowski', metric_params=None,\n",
      "                                      n_jobs=None, n_neighbors=5, p=2,\n",
      "                                      weights='uniform'))],\n",
      "         verbose=False) \n",
      "\n",
      "----------------------------------------\n",
      "Average score: 90.797% (+/-0.152)\n",
      "RandomForestClassifier(bootstrap=True, ccp_alpha=0.0, class_weight=None,\n",
      "                       criterion='gini', max_depth=None, max_features='auto',\n",
      "                       max_leaf_nodes=None, max_samples=None,\n",
      "                       min_impurity_decrease=0.0, min_impurity_split=None,\n",
      "                       min_samples_leaf=5, min_samples_split=2,\n",
      "                       min_weight_fraction_leaf=0.0, n_estimators=800,\n",
      "                       n_jobs=-1, oob_score=False, random_state=None, verbose=0,\n",
      "                       warm_start=False) \n",
      "\n",
      "----------------------------------------\n",
      "Average score: 88.660% (+/-0.578)\n",
      "MLPClassifier(activation='relu', alpha=0.0001, batch_size='auto', beta_1=0.9,\n",
      "              beta_2=0.999, early_stopping=False, epsilon=1e-08,\n",
      "              hidden_layer_sizes=(100, 100), learning_rate='constant',\n",
      "              learning_rate_init=0.001, max_fun=15000, max_iter=200,\n",
      "              momentum=0.9, n_iter_no_change=10, nesterovs_momentum=True,\n",
      "              power_t=0.5, random_state=None, shuffle=True, solver='adam',\n",
      "              tol=0.0001, validation_fraction=0.1, verbose=False,\n",
      "              warm_start=False) \n",
      "\n",
      "----------------------------------------\n",
      "Average score: 93.760% (+/-0.065)\n",
      "GradientBoostingClassifier(ccp_alpha=0.0, criterion='friedman_mse', init=None,\n",
      "                           learning_rate=0.1, loss='deviance', max_depth=3,\n",
      "                           max_features=None, max_leaf_nodes=None,\n",
      "                           min_impurity_decrease=0.0, min_impurity_split=None,\n",
      "                           min_samples_leaf=1, min_samples_split=2,\n",
      "                           min_weight_fraction_leaf=0.0, n_estimators=100,\n",
      "                           n_iter_no_change=None, presort='deprecated',\n",
      "                           random_state=None, subsample=1.0, tol=0.0001,\n",
      "                           validation_fraction=0.1, verbose=0,\n",
      "                           warm_start=False) \n",
      "\n"
     ]
    }
   ],
   "source": [
    "import feature_extraction\n",
    "\n",
    "# Run experiment:each experiments is repeated n times and the average\n",
    "# and standard deviation of the results is calculated\n",
    "feature_extraction.run_experiment(repeats=10)"
   ]
  },
  {
   "cell_type": "markdown",
   "metadata": {
    "colab_type": "text",
    "id": "4bLzws9-Z2pg"
   },
   "source": [
    "<br/>\n",
    "\n",
    "## Automated Feature Extraction + Classifier\n",
    "\n",
    "Code implementation:\n",
    "> automated_feature_extraction/extract_features.py<br/>\n",
    "> automated_feature_extraction/select_features.py<br/>\n",
    "> automated_feature_extraction/train_and_evaluate.py<br/>\n",
    "\n",
    "Another way of extracting features is using a package like tfresh (https://tsfresh.readthedocs.io/), which can be used to extract automatically a very large number of features (over 700 hundred features). Besides extracting the features, it can also be used for feature selection.\n",
    "The drawback is the computational time that it takes to extract all the features. It over 2 hours on my laptop (i7, 16Gb RAM).\n",
    "> $ pip install tfresh\n",
    "\n",
    "As the signals have 9 components, I have done the extraction and selection independently for each component and then concatenated all the features together before fitting the model.\n",
    "\n",
    "The total number of features extracted from each signal was is 6786, from which 1793 were selected.\n"
   ]
  },
  {
   "cell_type": "code",
   "execution_count": 8,
   "metadata": {
    "colab": {},
    "colab_type": "code",
    "id": "wIyQ54nvTzvR"
   },
   "outputs": [],
   "source": [
    "from auto_feature_extraction import extract_features, select_features, train_and_evaluate"
   ]
  },
  {
   "cell_type": "code",
   "execution_count": 1,
   "metadata": {
    "colab": {},
    "colab_type": "code",
    "id": "Y2YFGXjqZ2ph",
    "outputId": "83cf1dcf-b89b-418b-a848-3c2688a997f8"
   },
   "outputs": [],
   "source": [
    "extract_features.extract()"
   ]
  },
  {
   "cell_type": "code",
   "execution_count": 0,
   "metadata": {
    "colab": {},
    "colab_type": "code",
    "id": "HrZ5ua_JZ2pj",
    "outputId": "fb6e8917-30a9-4b6c-9439-dee0d4a2fe2e"
   },
   "outputs": [
    {
     "name": "stdout",
     "output_type": "stream",
     "text": [
      "loading signal_comp_0.csv\n"
     ]
    },
    {
     "name": "stderr",
     "output_type": "stream",
     "text": [
      "WARNING:tsfresh.feature_selection.relevance:Infered classification as machine learning task\n"
     ]
    },
    {
     "name": "stdout",
     "output_type": "stream",
     "text": [
      "selecting features...\n",
      "selected 203 features.\n",
      "loading signal_comp_1.csv\n"
     ]
    },
    {
     "name": "stderr",
     "output_type": "stream",
     "text": [
      "WARNING:tsfresh.feature_selection.relevance:Infered classification as machine learning task\n"
     ]
    },
    {
     "name": "stdout",
     "output_type": "stream",
     "text": [
      "selecting features...\n",
      "selected 166 features.\n",
      "loading signal_comp_2.csv\n"
     ]
    },
    {
     "name": "stderr",
     "output_type": "stream",
     "text": [
      "WARNING:tsfresh.feature_selection.relevance:Infered classification as machine learning task\n"
     ]
    },
    {
     "name": "stdout",
     "output_type": "stream",
     "text": [
      "selecting features...\n",
      "selected 184 features.\n",
      "loading signal_comp_3.csv\n"
     ]
    },
    {
     "name": "stderr",
     "output_type": "stream",
     "text": [
      "WARNING:tsfresh.feature_selection.relevance:Infered classification as machine learning task\n"
     ]
    },
    {
     "name": "stdout",
     "output_type": "stream",
     "text": [
      "selecting features...\n",
      "selected 154 features.\n",
      "loading signal_comp_4.csv\n"
     ]
    },
    {
     "name": "stderr",
     "output_type": "stream",
     "text": [
      "WARNING:tsfresh.feature_selection.relevance:Infered classification as machine learning task\n"
     ]
    },
    {
     "name": "stdout",
     "output_type": "stream",
     "text": [
      "selecting features...\n",
      "selected 178 features.\n",
      "loading signal_comp_5.csv\n"
     ]
    },
    {
     "name": "stderr",
     "output_type": "stream",
     "text": [
      "WARNING:tsfresh.feature_selection.relevance:Infered classification as machine learning task\n"
     ]
    },
    {
     "name": "stdout",
     "output_type": "stream",
     "text": [
      "selecting features...\n",
      "selected 177 features.\n",
      "loading signal_comp_6.csv\n"
     ]
    },
    {
     "name": "stderr",
     "output_type": "stream",
     "text": [
      "WARNING:tsfresh.feature_selection.relevance:Infered classification as machine learning task\n"
     ]
    },
    {
     "name": "stdout",
     "output_type": "stream",
     "text": [
      "selecting features...\n",
      "selected 261 features.\n",
      "loading signal_comp_7.csv\n"
     ]
    },
    {
     "name": "stderr",
     "output_type": "stream",
     "text": [
      "WARNING:tsfresh.feature_selection.relevance:Infered classification as machine learning task\n"
     ]
    },
    {
     "name": "stdout",
     "output_type": "stream",
     "text": [
      "selecting features...\n",
      "selected 234 features.\n",
      "loading signal_comp_8.csv\n"
     ]
    },
    {
     "name": "stderr",
     "output_type": "stream",
     "text": [
      "WARNING:tsfresh.feature_selection.relevance:Infered classification as machine learning task\n"
     ]
    },
    {
     "name": "stdout",
     "output_type": "stream",
     "text": [
      "selecting features...\n",
      "selected 236 features.\n",
      "saving automatic_feature_extraction/data_selected/train.csv\n",
      "saving automatic_feature_extraction/data_selected/test.csv\n"
     ]
    }
   ],
   "source": [
    "select_features.select()"
   ]
  },
  {
   "cell_type": "code",
   "execution_count": 9,
   "metadata": {
    "colab": {},
    "colab_type": "code",
    "id": "lwaspI9uZ2pm",
    "outputId": "3709f2b7-a0cc-49ba-90e5-b077c615c626"
   },
   "outputs": [
    {
     "name": "stdout",
     "output_type": "stream",
     "text": [
      "Accuracy: 87.34% \n",
      "\n",
      "Pipeline(memory=None,\n",
      "         steps=[('minmaxscaler', MinMaxScaler(copy=True, feature_range=(0, 1))),\n",
      "                ('logisticregression',\n",
      "                 LogisticRegression(C=1.0, class_weight=None, dual=False,\n",
      "                                    fit_intercept=True, intercept_scaling=1,\n",
      "                                    l1_ratio=None, max_iter=300,\n",
      "                                    multi_class='auto', n_jobs=None,\n",
      "                                    penalty='l2', random_state=None,\n",
      "                                    solver='lbfgs', tol=0.0001, verbose=0,\n",
      "                                    warm_start=False))],\n",
      "         verbose=False)\n",
      "\n",
      "\n",
      "Accuracy: 87.45% \n",
      "\n",
      "Pipeline(memory=None,\n",
      "         steps=[('standardscaler',\n",
      "                 StandardScaler(copy=True, with_mean=True, with_std=True)),\n",
      "                ('logisticregression',\n",
      "                 LogisticRegression(C=30, class_weight=None, dual=False,\n",
      "                                    fit_intercept=True, intercept_scaling=1,\n",
      "                                    l1_ratio=None, max_iter=300,\n",
      "                                    multi_class='auto', n_jobs=None,\n",
      "                                    penalty='l2', random_state=None,\n",
      "                                    solver='lbfgs', tol=0.0001, verbose=0,\n",
      "                                    warm_start=False))],\n",
      "         verbose=False)\n",
      "\n",
      "\n",
      "Accuracy: 73.51% \n",
      "\n",
      "Pipeline(memory=None,\n",
      "         steps=[('minmaxscaler', MinMaxScaler(copy=True, feature_range=(0, 1))),\n",
      "                ('svc',\n",
      "                 SVC(C=1.0, break_ties=False, cache_size=200, class_weight=None,\n",
      "                     coef0=0.0, decision_function_shape='ovr', degree=3,\n",
      "                     gamma='scale', kernel='rbf', max_iter=-1,\n",
      "                     probability=False, random_state=None, shrinking=True,\n",
      "                     tol=0.001, verbose=False))],\n",
      "         verbose=False)\n",
      "\n",
      "\n",
      "Accuracy: 81.50% \n",
      "\n",
      "Pipeline(memory=None,\n",
      "         steps=[('minmaxscaler', MinMaxScaler(copy=True, feature_range=(0, 1))),\n",
      "                ('kneighborsclassifier',\n",
      "                 KNeighborsClassifier(algorithm='auto', leaf_size=30,\n",
      "                                      metric='minkowski', metric_params=None,\n",
      "                                      n_jobs=None, n_neighbors=5, p=2,\n",
      "                                      weights='uniform'))],\n",
      "         verbose=False)\n",
      "\n",
      "\n",
      "Accuracy: 89.09% \n",
      "\n",
      "RandomForestClassifier(bootstrap=True, ccp_alpha=0.0, class_weight=None,\n",
      "                       criterion='gini', max_depth=None, max_features='auto',\n",
      "                       max_leaf_nodes=None, max_samples=None,\n",
      "                       min_impurity_decrease=0.0, min_impurity_split=None,\n",
      "                       min_samples_leaf=1, min_samples_split=2,\n",
      "                       min_weight_fraction_leaf=0.0, n_estimators=10000,\n",
      "                       n_jobs=None, oob_score=False, random_state=None,\n",
      "                       verbose=0, warm_start=False)\n",
      "\n",
      "\n",
      "Accuracy: 83.26% \n",
      "\n",
      "GradientBoostingClassifier(ccp_alpha=0.0, criterion='friedman_mse', init=None,\n",
      "                           learning_rate=0.1, loss='deviance', max_depth=3,\n",
      "                           max_features=None, max_leaf_nodes=None,\n",
      "                           min_impurity_decrease=0.0, min_impurity_split=None,\n",
      "                           min_samples_leaf=1, min_samples_split=2,\n",
      "                           min_weight_fraction_leaf=0.0, n_estimators=1000,\n",
      "                           n_iter_no_change=None, presort='deprecated',\n",
      "                           random_state=None, subsample=1.0, tol=0.0001,\n",
      "                           validation_fraction=0.1, verbose=0,\n",
      "                           warm_start=False)\n",
      "\n",
      "\n",
      "Accuracy: 86.47% \n",
      "\n",
      "Pipeline(memory=None,\n",
      "         steps=[('minmaxscaler', MinMaxScaler(copy=True, feature_range=(0, 1))),\n",
      "                ('mlpclassifier',\n",
      "                 MLPClassifier(activation='relu', alpha=0.0001,\n",
      "                               batch_size='auto', beta_1=0.9, beta_2=0.999,\n",
      "                               early_stopping=False, epsilon=1e-08,\n",
      "                               hidden_layer_sizes=(250, 150),\n",
      "                               learning_rate='constant',\n",
      "                               learning_rate_init=0.001, max_fun=15000,\n",
      "                               max_iter=200, momentum=0.9, n_iter_no_change=10,\n",
      "                               nesterovs_momentum=True, power_t=0.5,\n",
      "                               random_state=None, shuffle=True, solver='adam',\n",
      "                               tol=0.0001, validation_fraction=0.1,\n",
      "                               verbose=False, warm_start=False))],\n",
      "         verbose=False)\n",
      "\n",
      "\n"
     ]
    }
   ],
   "source": [
    "train_and_evaluate.train_evaluate()"
   ]
  },
  {
   "cell_type": "markdown",
   "metadata": {
    "colab_type": "text",
    "id": "2S_ZPUwwZ2po"
   },
   "source": [
    "The accuracies are a bit lower than in the previous example where the features where specifically selected and extracted. Definitely it isn't worth the amount of time that it took to extract them. Maybe with other data sets the result would be different, but what is clear is that knowing the signal you are working with and which of its features are relevant, is very important."
   ]
  },
  {
   "cell_type": "markdown",
   "metadata": {
    "colab_type": "text",
    "id": "jsWoOFgPZ2pp"
   },
   "source": [
    "<br/>\n",
    "\n",
    "## 1D_Convolutional_Network\n",
    "<br/>\n",
    "\n",
    "Code implementation:\n",
    "\n",
    "> **1D_CNN.py**\n",
    "\n",
    "<br/>\n",
    "The next model is a 1-dimensional multi-headed convolutional network, where each head of the model reads the input time steps using a different sized kernel (3, 5, 11) allowing the model to read and interpret the sequence data at three different resolutions. The interpretations from all three heads are then concatenated within the model and interpreted by a fully connected layer before a prediction is made.\n",
    "\n",
    "<br/>\n",
    "<br/>\n",
    "\n",
    "\n",
    "***\n",
    "\n",
    "<img src=\"data/img_models/multihead_1D_CNN.png\" />\n",
    "\n",
    "***\n",
    "\n",
    "<br/>"
   ]
  },
  {
   "cell_type": "code",
   "execution_count": 12,
   "metadata": {
    "colab": {
     "base_uri": "https://localhost:8080/",
     "height": 223
    },
    "colab_type": "code",
    "id": "4M19esjiZ2pq",
    "outputId": "7895d7e8-3cc5-41e0-aef1-32af1f29d7f8"
   },
   "outputs": [
    {
     "name": "stdout",
     "output_type": "stream",
     "text": [
      "> Rep_1: 92.057\n",
      "> Rep_2: 93.347\n",
      "> Rep_3: 93.483\n",
      "> Rep_4: 92.057\n",
      "> Rep_5: 92.600\n",
      "> Rep_6: 91.989\n",
      "> Rep_7: 90.767\n",
      "> Rep_8: 92.193\n",
      "> Rep_9: 92.057\n",
      "> Rep_10: 93.211\n",
      "[92.05702647657841, 93.346911065852, 93.48268839103869, 92.05702647657841, 92.60013577732519, 91.98913781398507, 90.76714188730483, 92.1928038017651, 92.05702647657841, 93.2111337406653]\n",
      "Score: 92.376% (+/-0.774)\n"
     ]
    }
   ],
   "source": [
    "import CNN_1D\n",
    "\n",
    "CNN_1D.run_experiment(repeats=10, verbose=0)"
   ]
  },
  {
   "cell_type": "markdown",
   "metadata": {
    "colab_type": "text",
    "id": "D46lIrLh0qzh"
   },
   "source": [
    "The accuracy achieved is **92.674%** with a standard deviation of 0,521. The 1D_CNN does a good job at identifying the activity from the signals, and with a bit of parameter tunning it could probably be improved."
   ]
  },
  {
   "cell_type": "markdown",
   "metadata": {
    "colab_type": "text",
    "id": "pR60XhLqZ2ps"
   },
   "source": [
    "<br>\n",
    "\n",
    "## LSTM\n",
    "\n",
    "\n",
    "\n",
    "<br>\n",
    "\n",
    "Code implementation:\n",
    "> **LSTM.py**\n",
    "\n",
    "\n",
    "\n",
    "Recurrent neural networks are also very popular on time-series data. Recurrent neural network (RNN) have \"memory\", being able of remember input from the past. Long short-term memory (LSTM) networks are one of the most useful types of RNN architecture thanks to their characteristic use of \"gates\" to reduce the error that would be back-propagated through time and layers otherwise.\n",
    "\n",
    "<br>\n",
    "\n",
    "***\n",
    "\n",
    "<img src=\"data/img_models/LSTM.png\" />\n",
    "\n",
    "***\n",
    "\n",
    "<br>"
   ]
  },
  {
   "cell_type": "code",
   "execution_count": 0,
   "metadata": {
    "colab": {
     "base_uri": "https://localhost:8080/",
     "height": 137
    },
    "colab_type": "code",
    "id": "i3A5CpGPZ2pt",
    "outputId": "31a12081-86c5-4ec1-b254-1c99b939ab1c",
    "scrolled": true
   },
   "outputs": [
    {
     "name": "stdout",
     "output_type": "stream",
     "text": [
      "> Rep_1: 97.246\n",
      "> Rep_2: 96.799\n",
      "> Rep_3: 96.991\n",
      "> Rep_4: 96.986\n",
      "> Rep_5: 96.850\n",
      "[97.24578844477534, 96.7990067517268, 96.99129260593566, 96.98563689978438, 96.84990590655039]\n",
      "Score: 96.974% (+/-0.155)\n"
     ]
    }
   ],
   "source": [
    "import LSTM\n",
    "\n",
    "LSTM.run_experiment(repeats=5, verbose=0)"
   ]
  },
  {
   "cell_type": "markdown",
   "metadata": {
    "colab_type": "text",
    "id": "EP58PR_4z4f8"
   },
   "source": [
    "The results are pretty good, **96.974% (+/-0.155)** accuracy. Even better than the the maximum accuracy achieved by feature extraction, and with the advantage that it isn't needed to expend time extracting features or have any knowledge about the signal."
   ]
  },
  {
   "cell_type": "markdown",
   "metadata": {
    "colab_type": "text",
    "id": "P_UFA2RbZ2px"
   },
   "source": [
    "<br><br>\n",
    "\n",
    "## CNN_1D + LSTM\n",
    "\n",
    "<br>\n",
    "\n",
    "Code implemetation:\n",
    "\n",
    "> **CNN_1D_LSTM.py**\n",
    "\n",
    "\n",
    "\n",
    "This conbination can be very powerful. On this model the CNN layers of the model read subsequences of the main sequence as in blocks, extracting features and temporal patterns from each block, then allowing the LSTM to interpret the features extracted from each block. It is very useful when the sequences are to large for the LSTM to remember, as the CNN layers will \"compress\" the sequence.\n",
    "\n",
    "This combination can also give very great results when the features in the signal that we want to detect are spreaded on time, and the exact position of those features isn't relevant.\n",
    "\n",
    "<br>\n",
    "\n",
    "***\n",
    "\n",
    "<img src=\"data/img_models/CNN_1D_LSTM.png\" />\n",
    "\n",
    "\n",
    "<br>"
   ]
  },
  {
   "cell_type": "code",
   "execution_count": 4,
   "metadata": {
    "colab": {
     "base_uri": "https://localhost:8080/",
     "height": 802
    },
    "colab_type": "code",
    "id": "BxZMgz28Z2py",
    "outputId": "987e714b-217e-4091-9a75-428750f1d269"
   },
   "outputs": [
    {
     "name": "stdout",
     "output_type": "stream",
     "text": [
      "\n",
      "==>Kernel: (3, 3)\n",
      "> Rep_1: 96.911\n",
      "> Rep_2: 97.613\n",
      "> Rep_3: 96.934\n",
      "> Rep_4: 97.635\n",
      "> Rep_5: 97.251\n",
      "> Rep_6: 97.318\n",
      "> Rep_7: 97.103\n",
      "\n",
      "==>Kernel: (5, 7)\n",
      "> Rep_1: 97.160\n",
      "> Rep_2: 97.307\n",
      "> Rep_3: 97.296\n",
      "> Rep_4: 97.284\n",
      "> Rep_5: 97.364\n",
      "> Rep_6: 97.748\n",
      "> Rep_7: 97.284\n",
      "\n",
      "==>Kernel: (11, 13)\n",
      "> Rep_1: 97.850\n",
      "> Rep_2: 97.149\n",
      "> Rep_3: 96.911\n",
      "> Rep_4: 97.499\n",
      "> Rep_5: 97.183\n",
      "> Rep_6: 96.956\n",
      "> Rep_7: 96.877\n",
      "[[96.91106677055359, 97.61257767677307, 96.93369269371033, 97.63520956039429, 97.25051522254944, 97.31837511062622, 97.1034049987793], [97.16000556945801, 97.30706214904785, 97.29578495025635, 97.28445410728455, 97.36364483833313, 97.74836897850037, 97.28445410728455], [97.85018563270569, 97.14869260787964, 96.91106677055359, 97.49941229820251, 97.18261361122131, 96.95631265640259, 96.87712788581848]] [(3, 3), (5, 7), (11, 13)]\n",
      "Score: 97.268% (+/-0.273)\n",
      "Kernel=(3, 3): 97.252% (+/-0.273)\n",
      "Kernel=(5, 7): 97.349% (+/-0.173)\n",
      "Kernel=(11, 13): 97.204% (+/-0.330)\n"
     ]
    },
    {
     "data": {
      "image/png": "[encoded data removed]",
      "text/plain": [
       "<Figure size 720x360 with 1 Axes>"
      ]
     },
     "metadata": {
      "needs_background": "light"
     },
     "output_type": "display_data"
    }
   ],
   "source": [
    "import CNN_1D_LSTM\n",
    "\n",
    "# Test also using different CNN kernels\n",
    "kernels = [(3, 3), (5, 7) , (11, 13)]\n",
    "\n",
    "# Run experiment\n",
    "CNN_1D_LSTM.run_experiment(repeats=7, kernel=kernels, verbose=0)"
   ]
  },
  {
   "cell_type": "markdown",
   "metadata": {
    "colab_type": "text",
    "id": "dJLy2z4-3QUE"
   },
   "source": [
    "Even better, **97.34**% acucuracy. This conbination of 1D_CNN and LSTM give the best results so far. All the kernels give a similar accuracy. "
   ]
  },
  {
   "cell_type": "markdown",
   "metadata": {
    "colab_type": "text",
    "id": "C_kw6MkOZ2p1"
   },
   "source": [
    "<br>\n",
    "\n",
    "## CWT_2D_CNN\n",
    "\n",
    "\n",
    "Convolution network (2D) on time/frequency representations (scalograms) extracted using the Continuous Wavelet Transform Filter Blank.\n",
    "\n",
    "***\n",
    "\n",
    "> CWT_scalograms.m <br>\n",
    "> data_generator_classes.py <br>\n",
    "> CWT_CNN_MobileNet.py <br>\n",
    "> CWT_CNN_VGG16.py <br>\n",
    "> CWT_3xCNN_VGG16.py <br>\n",
    "\n",
    "***\n",
    "\n",
    "#### Continuous Wavelet Transform Filter Bank\n",
    "\n",
    "On this model the Continuous Wavelet Transform (CWT) is applied to each of the signal and the resulting 2-dimensional coefficient matrix (1 for each signal component) are used as input \"images\" to the model. The resulting input as the following shape: 224,224,9 (height, width, channels), one \"channel\" for each of the signal components (total_acc_x, total_acc_y, total_acc_z,body_acc_x, body_acc_y, body_acc_z, body_gyr_x, body_gyr_y, body_gyr_z).\n",
    "\n",
    "Time/frequency analysis of the signals using the wavelet transform allows us to extract information from the signal in both, frequency and time domains. The wavelet transform filter banks it is also better than other methods as the transformation at different scales achieves the best resolution trade-off between time and frequency (high resolution in the frequency domain for small frequency values | high resolution in the time domain for for large frequency values).\n",
    "\n",
    "I have used MATLAB and the Signal Processing Toolbox to obtain the scalograms.\n",
    "The full code to obtain the scalograms is on the MATLAB file \"**CWT_scalograms.m**\".\n",
    "\n",
    "<br>\n",
    "\n",
    "<table>\n",
    "    <tr>\n",
    "        <td> <img src=\"data/data_scalograms/scalogram_example_1.png\" alt=\"Drawing\" width=450/> </td>\n",
    "        <td> <img src=\"data/data_scalograms/scalogram_example_2.png\" alt=\"Drawing\" width=450/> </td>\n",
    "    </tr>\n",
    "    <tr>\n",
    "        <td> <img src=\"data/data_scalograms/scalogram_example_3.png\" width=450/> </td>\n",
    "        <td> <img src=\"data/data_scalograms/scalogram_example_4.png\" width=450/> </td>\n",
    "    </tr>\n",
    "</table>\n",
    "\n",
    "<br>\n",
    "\n",
    "#### Keras Data Generators\n",
    "\n",
    "To feed the scalograms images to the model we also need to create a custom data_generator. Data_generators are used to load input data from the drive on small batches as needed when training the model. That way we avoid running out of RAM memory when working with large data sets. The generators used here are defined on the \"**data_generator_classes.py**\" file. \n",
    "\n",
    "More info about keras data generators:\n",
    "https://stanford.edu/~shervine/blog/keras-how-to-generate-data-on-the-fly\n",
    "\n",
    "<br>\n",
    "\n",
    "#### MobileNet\n",
    "\n",
    "#### Input shape \n",
    "\n",
    "For this model I wanted to try using transfer learning from one of the state-of-the-art pre-train models available on keras. To do that we can reuse the convolutional part of the model and remove the top. The pre-trained weights are also kept. Then we add our own dense layers on top so that they can learn to classify our specific data set. (In keras the \"top\" layers means the last layers of the model).\n",
    "\n",
    "However, there is a problem. All the pre-train models (or most of them) have been trained on the \"imagenet\" dataset, which are RGB images (3 channels), if we want to use transfer learning and keep the pre-trained weights of the model, the maximum number of channels that we can pass as input to the model is 3. But we have 9 channels (signal components) that we need to feed to the model. \n",
    "\n",
    "<br>\n",
    "\n",
    "To overcome this problem I have tried 3 possible solutions:\n",
    "\n",
    "\n",
    "**1)**  Not using the pre-trained weigths of the model (no tranfer learning) and use only its architecture. In this case we need to re-train all the layers of the model.\n",
    "\n",
    "\n",
    "**2)**  Concatenate the  scalograms of the 3 axis (x, y, z) of each signal together (kind of a rough solution but I have done it before and it seems to work). That way we reduce from 9 channels to just 3. This is how a single channel would look like:\n",
    "\n",
    "<img src=\"data/data_scalograms/triple_scalogram_example.png\" width=\"350\"/>\n",
    "\n",
    "<br>\n",
    "\n",
    "**3)**  Concatenate 3 models on parallel to build a three-headed model, where each head takes a different input (3 signals/channels each head). The outputs of the 3 convolutional heads are then merged together and feeded as input to our dense layers.\n",
    "\n",
    "<br>\n"
   ]
  },
  {
   "cell_type": "markdown",
   "metadata": {
    "colab_type": "text",
    "id": "NtJJOlQDZ2p1"
   },
   "source": [
    "\n",
    "<br>\n",
    "\n",
    "#### 1. CWT_CNN_MobileNet (no transfer learning)\n",
    "\n",
    "<br>\n",
    "\n",
    "Code implementation:\n",
    "\n",
    "> **CWT_CNN_MobileNet.py**\n",
    "\n",
    "<br>\n",
    "\n",
    "MobileNet is a very deep and yet very fast model, as it was originaly designed to be used on mobile and embedded vision applications where the computational power is limited. On this model the weights aren't pre-loaded and all layers are set to be re-trained.\n",
    "\n",
    "<br>\n",
    "\n",
    "<img src=\"data/img_models/CWT_CNN_MobileNet_horizontal.png\" />\n",
    "\n",
    "<br>"
   ]
  },
  {
   "cell_type": "markdown",
   "metadata": {},
   "source": [
    "**Before call-back \"ReduceLROnPlateau\" added:**"
   ]
  },
  {
   "cell_type": "code",
   "execution_count": 8,
   "metadata": {
    "colab": {
     "base_uri": "https://localhost:8080/",
     "height": 938
    },
    "colab_type": "code",
    "id": "qxeyPmXLZ2p2",
    "outputId": "8dddcc23-4ec4-4700-fe8f-f85819a1941b",
    "scrolled": true
   },
   "outputs": [
    {
     "name": "stdout",
     "output_type": "stream",
     "text": [
      ">Repeat_1: 64.198\n",
      ">Repeat_2: 54.721\n",
      "[64.1983687877655, 54.721468687057495]\n",
      "Score: 59.460% (+/-4.738)\n"
     ]
    }
   ],
   "source": [
    "import CWT_CNN_MobileNet\n",
    "\n",
    "CWT_CNN_MobileNet.run_experiment(repeats=2, verbose=0) "
   ]
  },
  {
   "cell_type": "markdown",
   "metadata": {},
   "source": [
    "**After:**"
   ]
  },
  {
   "cell_type": "code",
   "execution_count": 7,
   "metadata": {
    "colab": {
     "base_uri": "https://localhost:8080/",
     "height": 938
    },
    "colab_type": "code",
    "id": "qxeyPmXLZ2p2",
    "outputId": "8dddcc23-4ec4-4700-fe8f-f85819a1941b",
    "scrolled": true
   },
   "outputs": [
    {
     "name": "stdout",
     "output_type": "stream",
     "text": [
      "\n",
      "Epoch 00015: ReduceLROnPlateau reducing learning rate to 0.0009999999776482583.\n",
      "\n",
      "Epoch 00015: ReduceLROnPlateau reducing learning rate to 0.0009999999776482583.\n",
      ">Repeat_1: 73.879\n",
      "\n",
      "Epoch 00021: ReduceLROnPlateau reducing learning rate to 0.0009999999776482583.\n",
      ">Repeat_2: 67.731\n",
      "\n",
      "Epoch 00022: ReduceLROnPlateau reducing learning rate to 0.0009999999776482583.\n",
      "\n",
      "Epoch 00022: ReduceLROnPlateau reducing learning rate to 0.0009999999776482583.\n",
      ">Repeat_3: 71.365\n",
      "[73.879075050354, 67.73098111152649, 71.365487575531]\n",
      "Score: 70.992% (+/-2.524)\n"
     ]
    }
   ],
   "source": [
    "import CWT_CNN_MobileNet\n",
    "\n",
    "CWT_CNN_MobileNet.run_experiment(repeats=3, verbose=0)"
   ]
  },
  {
   "cell_type": "markdown",
   "metadata": {
    "colab_type": "text",
    "id": "uruNLNjbZ2p4"
   },
   "source": [
    "The results aren't very good, I tried other models (VGG16, ResNet, InceptionV3...), and only MobileNet achieved higher than 70% accuracy. Adding a call-back to reduce the learning rate when the accuracy stagnates seemed to help, the accuracy grew up around 10% after adding it, although more repetitions would be necessary to corroborate that, because the standard deviation is also quite high."
   ]
  },
  {
   "cell_type": "markdown",
   "metadata": {
    "colab_type": "text",
    "id": "HKvn9WoWZ2p7"
   },
   "source": [
    "<br>\n",
    "\n",
    "#### 2. CWT_CNN_VGG16 (concatenating 3 scalograms on 1 channel)\n",
    "\n",
    "<br>\n",
    "\n",
    "Code implementation:\n",
    "\n",
    "> **CWT_CNN_VGG16.py**\n",
    "\n",
    "<br>\n",
    "\n",
    "<img src=\"data/img_models/CWT_CNN_VGG16_horizontal.png\" />\n",
    "\n",
    "<br>"
   ]
  },
  {
   "cell_type": "code",
   "execution_count": 4,
   "metadata": {
    "colab": {
     "base_uri": "https://localhost:8080/",
     "height": 343
    },
    "colab_type": "code",
    "id": "JMkU6jo4Z2p8",
    "outputId": "79a1f1fd-8ddb-4be3-a75a-decce06e4d96"
   },
   "outputs": [
    {
     "name": "stderr",
     "output_type": "stream",
     "text": [
      "Using TensorFlow backend.\n"
     ]
    },
    {
     "name": "stdout",
     "output_type": "stream",
     "text": [
      "> Rep_1: 55.571\n",
      "> Rep_2: 55.027\n",
      "[55.57065010070801, 55.027174949645996]\n",
      "Score: 55.299% (+/-0.272)\n"
     ]
    }
   ],
   "source": [
    "import CWT_CNN_VGG16\n",
    "\n",
    "CWT_CNN_VGG16.run_experiment(repeats=2, verbose=0)"
   ]
  },
  {
   "cell_type": "markdown",
   "metadata": {
    "colab_type": "text",
    "id": "ofe_kr_RZ2p9"
   },
   "source": [
    "<br>\n",
    "\n",
    "#### 3. CWT_3xCNN_VGG16\n",
    "\n",
    "<br>\n",
    "\n",
    "Code implementation:\n",
    "\n",
    "> CWT_3xCNN_VGG16.py\n",
    "\n",
    "<br>\n",
    "\n",
    "<br>\n",
    "\n",
    "<img src=\"data/img_models/CWT_3xCNN_VGG16.png\" />\n",
    "\n",
    "<br>\n",
    "\n"
   ]
  },
  {
   "cell_type": "code",
   "execution_count": 6,
   "metadata": {
    "colab": {
     "base_uri": "https://localhost:8080/",
     "height": 188
    },
    "colab_type": "code",
    "id": "eF_efThU8qcy",
    "outputId": "4d0d7e9d-b19a-4542-d574-cd4b7e8a818b"
   },
   "outputs": [
    {
     "name": "stdout",
     "output_type": "stream",
     "text": [
      "\n",
      "Epoch 00008: ReduceLROnPlateau reducing learning rate to 0.0009999999776482583.\n",
      "> Rep_1: 16.644\n",
      "\n",
      "Epoch 00008: ReduceLROnPlateau reducing learning rate to 0.0009999999776482583.\n",
      "\n",
      "Epoch 00015: ReduceLROnPlateau reducing learning rate to 9.999999310821295e-05.\n",
      "> Rep_2: 18.037\n",
      "[16.644021739130434, 18.036684782608695]\n",
      "Score: 17.340% (+/-0.696)\n"
     ]
    }
   ],
   "source": [
    "import CWT_3xCNN_VGG16\n",
    "\n",
    "CWT_3xCNN_VGG16.run_experiment(repeats=2, verbose=0)"
   ]
  },
  {
   "cell_type": "markdown",
   "metadata": {},
   "source": [
    "The results of this model are the worst ones, it doesn't seem to learn anything at all. Probably the complexity of the model is excessive. Besides the models shown on this notebook I also tried with more simple models that I built myself, but the results from the scalograms weren't great either."
   ]
  },
  {
   "cell_type": "markdown",
   "metadata": {
    "colab_type": "text",
    "id": "FvyZNgkjZ2qC"
   },
   "source": [
    "<br>\n",
    "\n",
    "## Wavelet Time Scattering + Classifier\n",
    "\n",
    "<br>\n",
    "\n",
    "Code implementation:\n",
    "\n",
    "> **wavelet_scattering.m**\n",
    "\n",
    "<br>\n",
    "\n",
    "\n",
    "\n",
    "Wavelet time scattering consist on using wavelets transforms to extract low-variance features from signal, time series or image data. Wavelet time scattering yields signal representations insensitive to shifts in the input signal without sacrificing class discriminability.\n",
    "\n",
    "To extract the scattering features, I have used MATLAB and the Signal Processing Toolbox. The full code is on the MATLAB file \"**wavelet_scattering.m**\".\n",
    "\n",
    "On of the advantages of using wavelet time scattering is its relative high speed and computational efficiency. On my laptop it took less than **4** seconds to extract all of the 1944 features of each signal that are going to be used for the classification.\n",
    "\n",
    "From each signal component, with the wavelet decomposition framework that was used in MATLAB, we obtain 27 features on 8 different time windows *(see on the wavelet_scattering.m script)*. \n",
    "\n",
    "**27** features **&#215; 8** Nwin **&#215; 9** sign_comp  **=**  **1944** total features \n",
    "\n",
    "When can join all the features together or classify each time window independently and then apply majority vote to get the final results. I have put an example using majority vote on the wavelet_scattering.m script. Here for simplicity I am just going to add all the time window features together on a single vector. The accuracy of both methods is almost the same.\n",
    "\n",
    "<br>\n",
    "\n"
   ]
  },
  {
   "cell_type": "code",
   "execution_count": 3,
   "metadata": {
    "colab": {},
    "colab_type": "code",
    "id": "IP2OhdJyZ2qD"
   },
   "outputs": [
    {
     "name": "stdout",
     "output_type": "stream",
     "text": [
      "------------------------------------------------------------\n",
      "Score: 89.82015609093995\n",
      "Pipeline(memory=None,\n",
      "         steps=[('minmaxscaler', MinMaxScaler(copy=True, feature_range=(0, 1))),\n",
      "                ('logisticregression',\n",
      "                 LogisticRegression(C=1.0, class_weight=None, dual=False,\n",
      "                                    fit_intercept=True, intercept_scaling=1,\n",
      "                                    l1_ratio=None, max_iter=100,\n",
      "                                    multi_class='auto', n_jobs=None,\n",
      "                                    penalty='l2', random_state=None,\n",
      "                                    solver='lbfgs', tol=0.0001, verbose=0,\n",
      "                                    warm_start=False))],\n",
      "         verbose=False)\n",
      "\n",
      "------------------------------------------------------------\n",
      "Score: 92.29725144214456\n",
      "Pipeline(memory=None,\n",
      "         steps=[('standardscaler',\n",
      "                 StandardScaler(copy=True, with_mean=True, with_std=True)),\n",
      "                ('logisticregression',\n",
      "                 LogisticRegression(C=30, class_weight=None, dual=False,\n",
      "                                    fit_intercept=True, intercept_scaling=1,\n",
      "                                    l1_ratio=None, max_iter=100,\n",
      "                                    multi_class='auto', n_jobs=None,\n",
      "                                    penalty='l2', random_state=None,\n",
      "                                    solver='lbfgs', tol=0.0001, verbose=0,\n",
      "                                    warm_start=False))],\n",
      "         verbose=False)\n",
      "\n",
      "------------------------------------------------------------\n",
      "Score: 89.65049202578894\n",
      "Pipeline(memory=None,\n",
      "         steps=[('standardscaler',\n",
      "                 StandardScaler(copy=True, with_mean=True, with_std=True)),\n",
      "                ('svc',\n",
      "                 SVC(C=1.0, break_ties=False, cache_size=200, class_weight=None,\n",
      "                     coef0=0.0, decision_function_shape='ovr', degree=3,\n",
      "                     gamma='scale', kernel='rbf', max_iter=-1,\n",
      "                     probability=False, random_state=None, shrinking=True,\n",
      "                     tol=0.001, verbose=False))],\n",
      "         verbose=False)\n",
      "\n",
      "------------------------------------------------------------\n",
      "Score: 82.89786223277909\n",
      "Pipeline(memory=None,\n",
      "         steps=[('minmaxscaler', MinMaxScaler(copy=True, feature_range=(0, 1))),\n",
      "                ('kneighborsclassifier',\n",
      "                 KNeighborsClassifier(algorithm='auto', leaf_size=30,\n",
      "                                      metric='minkowski', metric_params=None,\n",
      "                                      n_jobs=None, n_neighbors=5, p=2,\n",
      "                                      weights='uniform'))],\n",
      "         verbose=False)\n",
      "\n",
      "------------------------------------------------------------\n",
      "Score: 90.19341703427214\n",
      "RandomForestClassifier(bootstrap=True, ccp_alpha=0.0, class_weight=None,\n",
      "                       criterion='gini', max_depth=None, max_features='auto',\n",
      "                       max_leaf_nodes=None, max_samples=None,\n",
      "                       min_impurity_decrease=0.0, min_impurity_split=None,\n",
      "                       min_samples_leaf=1, min_samples_split=2,\n",
      "                       min_weight_fraction_leaf=0.0, n_estimators=1000,\n",
      "                       n_jobs=-1, oob_score=False, random_state=None, verbose=0,\n",
      "                       warm_start=False)\n",
      "\n",
      "------------------------------------------------------------\n",
      "Score: 93.28130302002036\n",
      "Pipeline(memory=None,\n",
      "         steps=[('minmaxscaler', MinMaxScaler(copy=True, feature_range=(0, 1))),\n",
      "                ('mlpclassifier',\n",
      "                 MLPClassifier(activation='relu', alpha=0.0001,\n",
      "                               batch_size='auto', beta_1=0.9, beta_2=0.999,\n",
      "                               early_stopping=False, epsilon=1e-08,\n",
      "                               hidden_layer_sizes=(150, 100),\n",
      "                               learning_rate='constant',\n",
      "                               learning_rate_init=0.001, max_fun=15000,\n",
      "                               max_iter=200, momentum=0.9, n_iter_no_change=10,\n",
      "                               nesterovs_momentum=True, power_t=0.5,\n",
      "                               random_state=None, shuffle=True, solver='adam',\n",
      "                               tol=0.0001, validation_fraction=0.1,\n",
      "                               verbose=False, warm_start=False))],\n",
      "         verbose=False)\n",
      "\n"
     ]
    }
   ],
   "source": [
    "from scipy.io import loadmat\n",
    "import numpy as np\n",
    "from sklearn.preprocessing import StandardScaler, MinMaxScaler\n",
    "from sklearn.pipeline import make_pipeline\n",
    "from sklearn.linear_model import LogisticRegression\n",
    "from sklearn.svm import SVC\n",
    "from sklearn.neighbors import KNeighborsClassifier\n",
    "from sklearn.ensemble import RandomForestClassifier, GradientBoostingClassifier\n",
    "from sklearn.metrics import accuracy_score as accuracy\n",
    "from sklearn.neural_network import MLPClassifier\n",
    "\n",
    "\n",
    "def evaluate_model(clf, X_train, y_train, X_test, y_test):\n",
    "    clf.fit(X_train, y_train)\n",
    "    y_pred = clf.predict(X_test)\n",
    "    acc = accuracy(y_test, y_pred)\n",
    "    score = acc * 100.0\n",
    "    return score\n",
    "\n",
    "\n",
    "def run_experiment(repeats=2):\n",
    "    # Load data\n",
    "    data_dir = 'data/wavelet_scattering/'\n",
    "    train_features = 'train_WTS_features.mat'\n",
    "    test_file = 'test_WTS_features.mat'\n",
    "\n",
    "    X_train = loadmat(data_dir + 'train_WTS_features.mat')['all_features_train']\n",
    "    X_test = loadmat(data_dir + 'test_WTS_features.mat')['all_features_test']\n",
    "    y_train = loadmat(data_dir + 'train_WTS_labels.mat')['sequence_labels_train'][1, :]\n",
    "    y_test = loadmat(data_dir + 'test_WTS_labels.mat')['sequence_labels_test'][1, :]\n",
    "\n",
    "    time_windows = 8\n",
    "\n",
    "    # Concatenate all the time window features together\n",
    "    train_shape = (X_train.shape[0] // time_windows, X_train.shape[1] * time_windows)\n",
    "    test_shape = (X_test.shape[0] // time_windows, X_test.shape[1] * time_windows)\n",
    "\n",
    "    X_train = np.reshape(X_train, train_shape)\n",
    "    X_test = np.reshape(X_test, test_shape)\n",
    "\n",
    "    # Shuffle data\n",
    "    index = [i for i in range(len(X_train))]\n",
    "    np.random.shuffle(index)\n",
    "    X_train = X_train[index]\n",
    "    y_train = y_train[index]\n",
    "\n",
    "    # Models\n",
    "    classifiers = [\n",
    "        make_pipeline(MinMaxScaler(), LogisticRegression()),\n",
    "        make_pipeline(StandardScaler(), LogisticRegression(C=30)),\n",
    "        make_pipeline(StandardScaler(), SVC(kernel='rbf')),\n",
    "        make_pipeline(MinMaxScaler(), KNeighborsClassifier()),\n",
    "        RandomForestClassifier(n_estimators=1000, n_jobs=-1),\n",
    "        make_pipeline(MinMaxScaler(), MLPClassifier(hidden_layer_sizes=(150, 100)))\n",
    "    ]\n",
    "\n",
    "    all_scores = list()\n",
    "    for clf in classifiers:\n",
    "        score = evaluate_model(clf, X_train, y_train, X_test, y_test)\n",
    "        print(\"-\"*60)\n",
    "        print(f\"Score: {score}\")\n",
    "        print(f\"{clf}\\n\")\n",
    "        \n",
    "\n",
    "\n",
    "run_experiment()"
   ]
  },
  {
   "cell_type": "markdown",
   "metadata": {
    "colab_type": "text",
    "id": "lG8P2or0n_af"
   },
   "source": [
    "<br>\n",
    "\n",
    "## Conclusion\n",
    "\n",
    "Every data set is different, but on this specific data set LSTM and 1D_CNN_LSTM are the models that best performed, achieving an accuracy significally higher than the rest of the models.\n",
    "\n",
    "I didn't want to focus on the computational time of each model on this comparison, but the Wavelet Time Scattering technique was by far the fastest one, concadenating the WTS with a fast classifier it could take less than 15 seconds to train the model and make a prediction. 1D-CNN is also very fast, the LSTM and 2D-CNN models I had to run most of them on the cloud, while the 1D-CNN models I was able to run them on my laptop on a reasonable amount of time. \n",
    "\n",
    "On the other hand, the classification using the time/frequency representation of the signals (scalograms) did not achieved good results.\n",
    "\n",
    "<br>"
   ]
  }
 ],
 "metadata": {
  "accelerator": "GPU",
  "colab": {
   "collapsed_sections": [],
   "name": "1_Demostration.ipynb",
   "provenance": []
  },
  "kernelspec": {
   "display_name": "Python 3",
   "language": "python",
   "name": "python3"
  },
  "language_info": {
   "codemirror_mode": {
    "name": "ipython",
    "version": 3
   },
   "file_extension": ".py",
   "mimetype": "text/x-python",
   "name": "python",
   "nbconvert_exporter": "python",
   "pygments_lexer": "ipython3",
   "version": "3.7.6"
  },
  "varInspector": {
   "cols": {
    "lenName": 16,
    "lenType": 16,
    "lenVar": 40
   },
   "kernels_config": {
    "python": {
     "delete_cmd_postfix": "",
     "delete_cmd_prefix": "del ",
     "library": "var_list.py",
     "varRefreshCmd": "print(var_dic_list())"
    },
    "r": {
     "delete_cmd_postfix": ") ",
     "delete_cmd_prefix": "rm(",
     "library": "var_list.r",
     "varRefreshCmd": "cat(var_dic_list()) "
    }
   },
   "types_to_exclude": [
    "module",
    "function",
    "builtin_function_or_method",
    "instance",
    "_Feature"
   ],
   "window_display": false
  }
 },
 "nbformat": 4,
 "nbformat_minor": 1
}
